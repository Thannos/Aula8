{
  "nbformat": 4,
  "nbformat_minor": 0,
  "metadata": {
    "colab": {
      "name": "Aula8_Paulo.ipynb",
      "version": "0.3.2",
      "provenance": [],
      "include_colab_link": true
    },
    "kernelspec": {
      "name": "python3",
      "display_name": "Python 3"
    }
  },
  "cells": [
    {
      "cell_type": "markdown",
      "metadata": {
        "id": "view-in-github",
        "colab_type": "text"
      },
      "source": [
        "<a href=\"https://colab.research.google.com/github/Thannos/Aula8/blob/master/Aula8_Paulo.ipynb\" target=\"_parent\"><img src=\"https://colab.research.google.com/assets/colab-badge.svg\" alt=\"Open In Colab\"/></a>"
      ]
    },
    {
      "metadata": {
        "id": "4qmVvy2UVXWN",
        "colab_type": "code",
        "colab": {}
      },
      "cell_type": "code",
      "source": [
        "import numpy as np\n",
        "import matplotlib.pyplot as plt\n",
        "import math\n",
        "import random"
      ],
      "execution_count": 0,
      "outputs": []
    },
    {
      "metadata": {
        "id": "0II0vwQL2-mS",
        "colab_type": "code",
        "outputId": "6ce47206-78fb-4e4a-c29f-e34d07de8d12",
        "colab": {
          "base_uri": "https://localhost:8080/",
          "height": 134
        }
      },
      "cell_type": "code",
      "source": [
        "def metgauss(a, vet, n, m):\n",
        "    x = np.zeros((m))\n",
        "    for k in range(0, m):\n",
        "        for r in range(k+1,m):\n",
        "            resp = (a[r,k]/a[k,k])\n",
        "            vet[r] = vet[r]-(resp*vet[k])\n",
        "            for c in range(0,n):\n",
        "                a[r,c] = a[r,c]-(resp*a[k,c])\n",
        "    x[m - 1] = vet[m-1]/a[m-1, m-1]\n",
        "    for r in range(m-1, -1, -1): \n",
        "        soma = 0\n",
        "        for c in range(0,n):\n",
        "            soma = soma + a[r,c]*x[c]\n",
        "            x[r]=(vet[r]-soma)/a[r,r]\n",
        "    print('Resultado matriz:\\n',a,'\\nResultado do vetor:\\n',vet,'\\nResultados: ',resp)\n",
        "    \n",
        "a=np.array([[3.,2.,4.], [0., 1., 2.], [4.,3.,-2.]])\n",
        "b=np.array([1.,2.,3.])\n",
        "n=3\n",
        "m=3\n",
        "metgauss(a,b,n,m)\n",
        "#terminar em casa"
      ],
      "execution_count": 27,
      "outputs": [
        {
          "output_type": "stream",
          "text": [
            "Resultado matriz:\n",
            " [[ 3.  2.  4.]\n",
            " [ 0.  1.  2.]\n",
            " [ 0.  0. -8.]] \n",
            "Resultado do vetor:\n",
            " [1. 2. 1.] \n",
            "Resultados:  0.3333333333333335\n"
          ],
          "name": "stdout"
        }
      ]
    },
    {
      "metadata": {
        "id": "XcI_jX5iVw-3",
        "colab_type": "code",
        "colab": {
          "base_uri": "https://localhost:8080/",
          "height": 235
        },
        "outputId": "dc324e44-015d-44b6-a566-d158d677f531"
      },
      "cell_type": "code",
      "source": [
        "def gaus(a,b,m,n):\n",
        "    for k in range(0, m): \n",
        "        for r in range(k+1,m): \n",
        "            resp = (a[r,k]/a[k,k])\n",
        "            b[r] -= (resp*b[k])\n",
        "            for c in range(0,n):\n",
        "                a[r,c] -= (resp*a[k,c])\n",
        "    for k in range(0, m): \n",
        "        for r in range(k+1,m): \n",
        "            resp = (a[r,k]/a[k,k])\n",
        "            b[r] -= (resp*b[k])\n",
        "            for c in range(0,n):\n",
        "                a[r,c] -= (resp*a[k,c])\n",
        "    print('Resultado matriz:\\n',a,'\\nResultado do vetor:\\n',b,'\\nResultados: ',resp)\n",
        "m=3\n",
        "n=3\n",
        "a = np.array([[3.,2.,4.], [1.,1.,2.], [4.,3.,-2.]])\n",
        "b = np.array([1.,2.,3.])\n",
        "print('matriz:\\n',a,'\\nvetor:\\n',b)\n",
        "gaus(a, b, m, n)"
      ],
      "execution_count": 18,
      "outputs": [
        {
          "output_type": "stream",
          "text": [
            "matriz:\n",
            " [[ 3.  2.  4.]\n",
            " [ 1.  1.  2.]\n",
            " [ 4.  3. -2.]] \n",
            "vetor:\n",
            " [1. 2. 3.]\n",
            "Resultado matriz:\n",
            " [[ 3.          2.          4.        ]\n",
            " [ 0.          0.33333333  0.66666667]\n",
            " [ 0.          0.         -8.        ]] \n",
            "Resultado do vetor:\n",
            " [ 1.00000000e+00  1.66666667e+00 -7.21644966e-16] \n",
            "Resultados:  1.6653345369377346e-16\n"
          ],
          "name": "stdout"
        }
      ]
    }
  ]
}